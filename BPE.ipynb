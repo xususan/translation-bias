{
 "cells": [
  {
   "cell_type": "code",
   "execution_count": 1,
   "metadata": {},
   "outputs": [],
   "source": [
    "import torchtext\n",
    "from torchtext.data import Field, BucketIterator, TabularDataset\n",
    "import spacy\n",
    "import argparse\n",
    "from utils_transform import *\n",
    "from transformer import *\n",
    "import pdb"
   ]
  },
  {
   "cell_type": "code",
   "execution_count": 2,
   "metadata": {},
   "outputs": [],
   "source": [
    "class Args:\n",
    "    def __init__(self):\n",
    "        self.size= \"mini\""
   ]
  },
  {
   "cell_type": "code",
   "execution_count": 3,
   "metadata": {},
   "outputs": [],
   "source": [
    "params = Params(Args())"
   ]
  },
  {
   "cell_type": "code",
   "execution_count": 4,
   "metadata": {},
   "outputs": [
    {
     "name": "stdout",
     "output_type": "stream",
     "text": [
      "Building vocab...\n",
      "TR vocab size: 727, EN vocab size: 798\n",
      "Done building vocab\n"
     ]
    }
   ],
   "source": [
    "train, val, test, TR, EN = load_train_val_test_datasets(params)"
   ]
  },
  {
   "cell_type": "code",
   "execution_count": 5,
   "metadata": {},
   "outputs": [],
   "source": [
    "pad_idx = EN.vocab.stoi[PAD]\n",
    "train_iter = MyIterator(train, batch_size=512, device=torch.device('cpu'),\n",
    "                        repeat=False, sort_key=lambda x: (len(x.src), len(x.trg), len(x.src_context)),\n",
    "                        batch_size_fn=batch_size_fn, train=True)"
   ]
  },
  {
   "cell_type": "code",
   "execution_count": 6,
   "metadata": {},
   "outputs": [],
   "source": [
    "bpemb_tr, bpemb_en = load_bpe(1000)"
   ]
  },
  {
   "cell_type": "code",
   "execution_count": 7,
   "metadata": {},
   "outputs": [
    {
     "data": {
      "text/plain": [
       "'babanızın▁da ihtiyacı var.'"
      ]
     },
     "execution_count": 7,
     "metadata": {},
     "output_type": "execute_result"
    }
   ],
   "source": [
    "bpemb_en.decode(list(train.examples[1].src))"
   ]
  },
  {
   "cell_type": "code",
   "execution_count": 8,
   "metadata": {},
   "outputs": [
    {
     "data": {
      "text/plain": [
       "'your father has to use the bathroom too!'"
      ]
     },
     "execution_count": 8,
     "metadata": {},
     "output_type": "execute_result"
    }
   ],
   "source": [
    "bpemb_en.decode(list(train.examples[1].trg))"
   ]
  },
  {
   "cell_type": "code",
   "execution_count": 9,
   "metadata": {},
   "outputs": [],
   "source": [
    "train_csv, val_csv, test_csv = \"train_mini.csv\", \"val_mini.csv\", \"test_mini.csv\""
   ]
  },
  {
   "cell_type": "code",
   "execution_count": 10,
   "metadata": {},
   "outputs": [],
   "source": [
    "# DATA LOADING\n",
    "en = spacy.load('en')\n",
    "def tokenize_en(sentence):\n",
    "    return [tok.text for tok in en.tokenizer(sentence)]\n",
    "\n",
    "SOS, EOS, PAD, BOS = \"<s>\", \"</s>\", \"<pad>\", \"<bos>\" # Represents begining of context sentence\n",
    "# Context and source / target fields for English + Turkish\n",
    "TRF = Field(lower=True, pad_token=PAD)\n",
    "ENF = Field(tokenize=tokenize_en, lower=True, pad_token=PAD, init_token = SOS, eos_token =EOS)\n"
   ]
  },
  {
   "cell_type": "code",
   "execution_count": 11,
   "metadata": {},
   "outputs": [],
   "source": [
    "# Must be in order\n",
    "data_fields = [\n",
    "  ('src_context', TRF), ('src', TRF),\n",
    "  ('trg_context', ENF), ('trg', ENF)]\n",
    "\n",
    "train_old = TabularDataset.splits(\n",
    "  path='data/', \n",
    "  train=train_csv,\n",
    "  format='tsv', \n",
    "  fields=data_fields)[0]"
   ]
  },
  {
   "cell_type": "code",
   "execution_count": 12,
   "metadata": {},
   "outputs": [
    {
     "data": {
      "text/plain": [
       "['babanızın', 'da', 'ihtiyacı', 'var.']"
      ]
     },
     "execution_count": 12,
     "metadata": {},
     "output_type": "execute_result"
    }
   ],
   "source": [
    "train_old.examples[1].src"
   ]
  },
  {
   "cell_type": "code",
   "execution_count": null,
   "metadata": {},
   "outputs": [
    {
     "name": "stdout",
     "output_type": "stream",
     "text": [
      "> <ipython-input-14-431479b3b65e>(1)<module>()\n",
      "-> for old_b in train_iter:\n",
      "(Pdb) old_b\n",
      "\n",
      "[torchtext.data.batch.Batch of size 30]\n",
      "\t[.src_context]:[torch.LongTensor of size 35x30]\n",
      "\t[.src]:[torch.LongTensor of size 14x30]\n",
      "\t[.trg_context]:[torch.LongTensor of size 43x30]\n",
      "\t[.trg]:[torch.LongTensor of size 17x30]\n",
      "(Pdb) old_b.src\n",
      "tensor([[ 68,  40,  52,   6,  60,  63, 256, 118,  68,  65, 250,  18, 115,  47,\n",
      "           6, 336,   6, 413,   5,  56, 137,  25,  25, 116,   6,  60,   6,  56,\n",
      "          94,  44],\n",
      "        [103,  51,   5,  82,  11,  67,  10,   6, 103,  99,  43,  10,   7, 257,\n",
      "          24,  97,  82, 266, 215, 244, 134, 198, 240,  20,  43,  93, 344,  87,\n",
      "          21,  69],\n",
      "        [ 66, 491,   2,  69,  85,  66,  10,  24,  66,   3,  34, 125,   6, 115,\n",
      "          21, 266,  69, 237,  59,   9,   3, 216, 164,   8,   7, 107, 260, 136,\n",
      "         488,  39],\n",
      "        [258, 285,  29,  38,  12, 100,  30,  14, 125,  17,   6,  42,  71,   7,\n",
      "         142,  58,  16, 235,  47, 491,  77, 282, 236,  26, 312,  10, 211, 114,\n",
      "          23, 143],\n",
      "        [110, 122, 305,  81,  40, 171,  28, 246,   7,  36,  24,  75, 180,   6,\n",
      "          40,  35, 247, 201,   7, 285, 114, 576, 290,   3,  43, 243,  78, 190,\n",
      "         123, 342],\n",
      "        [246, 126,  69,  58,  49, 252,  10, 382,  55,  99, 105,  27, 199,  82,\n",
      "         239,  15,  56, 388, 176, 122, 108, 172, 245, 367, 273,  29, 531, 123,\n",
      "          78, 115],\n",
      "        [ 16, 309,  83, 117,  69, 352,  19, 213, 162,  80, 151,   9,  55,  69,\n",
      "          68,  34,  36,  63, 151,  51,  12,  37, 133,  75,  85, 128,  39,  27,\n",
      "           5,   7],\n",
      "        [168,  16,   8, 363, 273,  88,  42, 140, 204,   7,  82,   3,   6, 456,\n",
      "         353,   3, 424,  45,  26, 236,  63,  22, 124, 577,  52,  16, 328,   9,\n",
      "          35, 165],\n",
      "        [441,  92,  15, 116,  32, 275,   3,  92, 201,   5, 116, 102,  57, 179,\n",
      "         198, 106, 317,  31,  51, 124,  80,  85,  54, 211,  69,  32, 329,   3,\n",
      "          34, 105],\n",
      "        [ 38, 288,  19,  20, 140,  29, 102,   9,   6,  10,  20,  75,  35, 355,\n",
      "         144,  80,  23,  63,   5,  21,  43, 242, 205, 257,  16, 173, 104,  33,\n",
      "         356, 362],\n",
      "        [202, 153,   6,   8,  20, 157, 111,  76,  89,  10,   8,  10,  46,   9,\n",
      "         353, 190,  27,  20,  95, 182, 127,  42, 575, 436, 211,  54, 596, 175,\n",
      "         327,  59],\n",
      "        [ 20,  35,  95,  15,   8,   8,  62,  25, 167,  30, 110,  51,  98, 156,\n",
      "         213,   6,   9,  75, 251,  55, 249,  54,  28, 318,  28,  27,   2,  75,\n",
      "         356,  37],\n",
      "        [  8, 211,  73,  19,  26,  26,  23,  14,  31,  72, 172, 217,  11, 360,\n",
      "          85,   9,  24,  11,   9, 292,  34, 124,  86, 188,  22, 124,   2,  11,\n",
      "         360,  11],\n",
      "        [  2,   2,   4,   2,   2,   2,  13,   4,   2,   2,   2,   2,  13,   2,\n",
      "           2,  13,   4,   2,   2,   4,   2,   2,   2,   2,  13,   2,   2,   4,\n",
      "          13,  13]])\n",
      "(Pdb) new_b.trg\n",
      "tensor([[  2, 263, 284, 272,  33,  36, 340,  90, 145,  46,   4,   3,   1,   1,\n",
      "           1,   1],\n",
      "        [  2,  23,   5,  11, 137,  38, 379,  98, 194, 199, 376,   4,   3,   1,\n",
      "           1,   1],\n",
      "        [  2,  26,  29,  19, 130,  27,  58,   6,   8,  50,  16,   9,   3,   1,\n",
      "           1,   1],\n",
      "        [  2,   6,   8,  83,  51,  10,  76,   5,  14,  50,  23,   4,   3,   1,\n",
      "           1,   1],\n",
      "        [  2,  67,  74,  50,  40,  77,  36,  69,  16,  60,  37,   4,   3,   1,\n",
      "           1,   1],\n",
      "        [  2,  10,   5,  44,  39, 167, 381,  43, 292, 183,  98,   4,   3,   1,\n",
      "           1,   1],\n",
      "        [  2, 320,  21,  31,  13, 330,  84,   7,  48,  52, 112,  15,   3,   1,\n",
      "           1,   1],\n",
      "        [  2,  26,  13, 189,  85,  34, 102,  12,  90, 145, 132,   9,   3,   1,\n",
      "           1,   1],\n",
      "        [  2,  19, 699, 157, 681, 184,  63, 318, 532,  86, 286,   4,   3,   1,\n",
      "           1,   1],\n",
      "        [  2,  82,  69,   7,  35,  87,  39,  21,  31,  28,  24,   4,   3,   1,\n",
      "           1,   1],\n",
      "        [  2,  85,  90, 281, 125,  49, 274,  38,  17,  98,  13,   4,   3,   1,\n",
      "           1,   1],\n",
      "        [  2,  34, 164, 106, 196,  35, 196,   7,  22, 164,   8, 127,   4,   3,\n",
      "           1,   1],\n",
      "        [  2,  10,  12, 419,   6,   8,  12, 179, 207,  37, 183,  98,  15,   3,\n",
      "           1,   1],\n",
      "        [  2,  56, 136,  22,  36, 340, 154,  33,  36,  12,   6,   8,   4,   3,\n",
      "           1,   1],\n",
      "        [  2,  33,  36, 132,  12, 268, 147, 246, 146,  13, 141,  16,   4,   3,\n",
      "           1,   1],\n",
      "        [  2,   6,   8,  58, 137,  12,  63, 107, 115,   7,  33,  36,  54,  15,\n",
      "           3,   1],\n",
      "        [  2, 150,  18,  53,   6,   8, 179, 151,  28, 118,  12,  50,  64,   9,\n",
      "           3,   1],\n",
      "        [  2,  22,  36,   5,  11, 109,  18, 280, 101,  12, 234, 178, 308, 406,\n",
      "           4,   3],\n",
      "        [  2,  67,  74,  22,  36,  91,  83,  51,  10,   5,  44,  81,  88,  75,\n",
      "           4,   3],\n",
      "        [  2,  26,  13,  18,  53,  79,  35, 335, 110,  40, 422,  89,  71, 142,\n",
      "           9,   3],\n",
      "        [  2,  95,   7,   6,   8,   5,  45, 138, 123,  11,  53, 101,  66,  45,\n",
      "           4,   3],\n",
      "        [  2,  40,  73, 103,   4,   4,   4,  60, 268, 147, 242,  16,   6,   8,\n",
      "           4,   3],\n",
      "        [  2, 284, 290, 105,  25,  16, 409,  22,  65,  14,  52,  42, 301,  72,\n",
      "           4,   3],\n",
      "        [  2,   6,   8,  83,  51,   7, 119, 122,  19,  93, 563, 690,  11,  50,\n",
      "           4,   3],\n",
      "        [  2,  26,  29,   5,  27,  27,  23,  41, 100,  12, 399, 175, 158,  37,\n",
      "          15,   3],\n",
      "        [  2,  10, 284, 290,  70,  62,  30,  16,  43,  17,  13,  90,  53,  11,\n",
      "           4,   3],\n",
      "        [  2, 120,   5,  11, 711,  11,  47, 231,  14, 367, 214,  11,   4,   4,\n",
      "           4,   3],\n",
      "        [  2, 118,  18,  53,   6,   8, 402, 110,  66,  45, 155,   7,  22, 124,\n",
      "          25,   9],\n",
      "        [  2, 117,  25,  35, 196,  39,  32,  47,  18,  32,   5,  14, 343,  62,\n",
      "          30,  15],\n",
      "        [  2,  10,   5,  27,  27,  17, 100,   6,   8,  48,  61,   7,  42, 208,\n",
      "         192,  15]])\n",
      "(Pdb) [EN.vocab.itos[x] for x in new_b[0]]\n",
      "*** TypeError: 'Batch' object does not support indexing\n",
      "(Pdb) [EN.vocab.itos[x] for x in new_b.trg[0]]\n",
      "['<s>', '▁people', '▁ke', 'ep', '▁g', 'et', 'ting', '▁k', 'ill', 'ed', '.', '</s>', '<pad>', '<pad>', '<pad>', '<pad>']\n"
     ]
    }
   ],
   "source": [
    "for old_b in train_iter:\n",
    "    new_b = rebatch(EN.vocab.stoi[PAD], old_b)\n",
    "    pdb.set_trace()"
   ]
  },
  {
   "cell_type": "code",
   "execution_count": null,
   "metadata": {},
   "outputs": [],
   "source": []
  },
  {
   "cell_type": "code",
   "execution_count": null,
   "metadata": {},
   "outputs": [],
   "source": []
  }
 ],
 "metadata": {
  "kernelspec": {
   "display_name": "Pytorch 0.4.1",
   "language": "python",
   "name": "pytorch"
  },
  "language_info": {
   "codemirror_mode": {
    "name": "ipython",
    "version": 3
   },
   "file_extension": ".py",
   "mimetype": "text/x-python",
   "name": "python",
   "nbconvert_exporter": "python",
   "pygments_lexer": "ipython3",
   "version": "3.6.7"
  }
 },
 "nbformat": 4,
 "nbformat_minor": 2
}
